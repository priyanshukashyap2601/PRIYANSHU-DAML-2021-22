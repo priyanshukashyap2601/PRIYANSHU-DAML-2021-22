{
 "cells": [
  {
   "cell_type": "code",
   "execution_count": 8,
   "metadata": {},
   "outputs": [
    {
     "name": "stdout",
     "output_type": "stream",
     "text": [
      "study\n",
      "2 sons\n",
      "2 sons\n"
     ]
    }
   ],
   "source": [
    "# Multiple inheritance\n",
    "\n",
    "class GF:\n",
    "    def properties(s):\n",
    "        print(\"2 sons\")\n",
    "class Father():\n",
    "    def properties(s):\n",
    "        print(\"2 Flats\")\n",
    "\n",
    "\n",
    "class student(GF,Father):\n",
    "    def study(s):\n",
    "        print(\"study\")\n",
    "\n",
    "obj=student()\n",
    "obj.study()\n",
    "obj.properties()\n",
    "obj.properties()\n",
    "\n",
    "\n"
   ]
  },
  {
   "cell_type": "code",
   "execution_count": null,
   "metadata": {},
   "outputs": [],
   "source": []
  }
 ],
 "metadata": {
  "interpreter": {
   "hash": "051cc550bfcadb6f8d979dede619cd9741aa5ce415fb0fab6804069e4a13ce2b"
  },
  "kernelspec": {
   "display_name": "Python 3.10.0 64-bit",
   "name": "python3"
  },
  "language_info": {
   "codemirror_mode": {
    "name": "ipython",
    "version": 3
   },
   "file_extension": ".py",
   "mimetype": "text/x-python",
   "name": "python",
   "nbconvert_exporter": "python",
   "pygments_lexer": "ipython3",
   "version": "3.10.0"
  },
  "orig_nbformat": 4
 },
 "nbformat": 4,
 "nbformat_minor": 2
}
